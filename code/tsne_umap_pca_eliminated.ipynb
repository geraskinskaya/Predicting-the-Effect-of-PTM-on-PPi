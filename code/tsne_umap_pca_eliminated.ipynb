{
  "nbformat": 4,
  "nbformat_minor": 0,
  "metadata": {
    "colab": {
      "provenance": []
    },
    "kernelspec": {
      "name": "python3",
      "display_name": "Python 3"
    },
    "language_info": {
      "name": "python"
    }
  },
  "cells": [
    {
      "cell_type": "code",
      "execution_count": null,
      "metadata": {
        "id": "0sGHY19R0Xef"
      },
      "outputs": [],
      "source": [
        "import matplotlib.pyplot as plt\n",
        "import os\n",
        "import re\n",
        "import pandas as pd\n",
        "import numpy as np\n",
        "from sklearn.model_selection import train_test_split\n",
        "from sklearn.ensemble import RandomForestClassifier\n",
        "from sklearn.model_selection import GridSearchCV, StratifiedKFold\n",
        "from sklearn.metrics import classification_report, confusion_matrix, roc_curve, auc, roc_auc_score, matthews_corrcoef\n",
        "from imblearn.combine import SMOTEENN\n",
        "from sklearn.preprocessing import StandardScaler\n",
        "from sklearn.pipeline import Pipeline\n",
        "from imblearn.over_sampling import RandomOverSampler\n",
        "from xgboost import XGBClassifier\n",
        "from sklearn.preprocessing import OneHotEncoder"
      ]
    },
    {
      "cell_type": "code",
      "source": [
        "umap = pd.read_csv('/content/F_ptmint_prot_umap.csv')\n",
        "tsne = pd.read_csv('/content/F_ptmint_prot_tsne.csv')\n",
        "pca = pd.read_csv('/content/F_ptmint_prot_pca.csv')\n",
        "eliminated = pd.read_csv('/content/F_ptmint_prot_wind_enc.csv')"
      ],
      "metadata": {
        "id": "c4mKfb3d0c14"
      },
      "execution_count": null,
      "outputs": []
    },
    {
      "cell_type": "code",
      "source": [
        "features = ['prot_2_882',\n",
        "'prot_2_847',\n",
        "'prot_2_957',\n",
        "'prot_2_1005',\n",
        "'prot_2_172',\n",
        "'prot_2_434',\n",
        "'prot_2_592',\n",
        "'prot_1_173',\n",
        "'prot_2_59',\n",
        "'prot_1_340',\n",
        "'prot_1_352',\n",
        "'prot_2_1013',\n",
        "'prot_2_583',\n",
        "'prot_1_56',\n",
        "'prot_2_483',\n",
        "'prot_2_861',\n",
        "'wind_882',\n",
        "'prot_1_829',\n",
        "'wind_792',\n",
        "'prot_1_561',\n",
        "'prot_1_291',\n",
        "'prot_1_815',\n",
        "'prot_2_951',\n",
        "'prot_2_114',\n",
        "'prot_2_901',\n",
        "'prot_2_107',\n",
        "'wind_596',\n",
        "'wind_532',\n",
        "'prot_2_44',\n",
        "'prot_1_374',\n",
        "'prot_2_372',\n",
        "'prot_2_471',\n",
        "'prot_2_319',\n",
        "'wind_564',\n",
        "'prot_2_996',\n",
        "'wind_961',\n",
        "'wind_613',\n",
        "'prot_2_573',\n",
        "'wind_978',\n",
        "'prot_2_193',\n",
        "'prot_1_651',\n",
        "'prot_1_547',\n",
        "'prot_1_501',\n",
        "'prot_2_803',\n",
        "'wind_495',\n",
        "'wind_55',\n",
        "'wind_659',\n",
        "'prot_1_466',\n",
        "'prot_2_6',\n",
        "'wind_420',\n",
        "'wind_836',\n",
        "'wind_865',\n",
        "'wind_703',\n",
        "'wind_850',\n",
        "'wind_922',\n",
        "'prot_1_453',\n",
        "'wind_878',\n",
        "'prot_2_876',\n",
        "'prot_1_887',\n",
        "'wind_580',\n",
        "'wind_793',\n",
        "'prot_1_253',\n",
        "'prot_2_249',\n",
        "'prot_2_739',\n",
        "'prot_1_338',\n",
        "'wind_393',\n",
        "'wind_550',\n",
        "'wind_778',\n",
        "'wind_220',\n",
        "'prot_1_895',\n",
        "'prot_2_810',\n",
        "'prot_1_559',\n",
        "'Is_int',\n",
        "'PTM']\n",
        "\n",
        "print(len(features))"
      ],
      "metadata": {
        "id": "Fn6HnymU-t5Z",
        "colab": {
          "base_uri": "https://localhost:8080/"
        },
        "outputId": "34d40674-ab51-4697-fe32-40321171ca17"
      },
      "execution_count": null,
      "outputs": [
        {
          "output_type": "stream",
          "name": "stdout",
          "text": [
            "74\n"
          ]
        }
      ]
    },
    {
      "cell_type": "code",
      "source": [
        "umap_x = umap.drop(columns = ['Effect', 'Unnamed: 0', 'Site'])\n",
        "umap_y = umap['Effect']\n",
        "\n",
        "\n",
        "tsne_x = tsne.drop(columns = ['Effect', 'Unnamed: 0', 'Site'])\n",
        "tsne_y = tsne['Effect']\n",
        "\n",
        "pca_x = pca.drop(columns = ['Effect', 'Unnamed: 0', 'Site', 'protbert', 'int_protbert'])\n",
        "pca_y = pca['Effect']\n",
        "\n",
        "eliminated_x = eliminated.drop(columns = ['Effect', 'Unnamed: 0','Site'])\n",
        "eliminated_y = eliminated['Effect']\n",
        "\n",
        "print(pca_x.head())\n"
      ],
      "metadata": {
        "colab": {
          "base_uri": "https://localhost:8080/"
        },
        "id": "iE2SKswN094e",
        "outputId": "3d65f00d-00ea-478e-a5db-99a7c007ae76"
      },
      "execution_count": null,
      "outputs": [
        {
          "output_type": "stream",
          "name": "stdout",
          "text": [
            "   PTM  Is_int  prot_1_0  prot_1_1  prot_1_2  prot_1_3  prot_1_4  prot_1_5  \\\n",
            "0    3       0 -7.971703 -0.417247  2.350504 -3.315564 -5.896609  9.490856   \n",
            "1    3       0  7.422797 -3.919816 -8.453760  5.990222  4.319603  2.118616   \n",
            "2    3       1 -2.208193 -5.230134 -3.938176 -1.542876  7.678240  4.189340   \n",
            "3    3       1 -2.208193 -5.230134 -3.938176 -1.542876  7.678240  4.189340   \n",
            "4    3       0 -3.758822 -3.139899 -4.889634  2.103601  1.822569 -4.790252   \n",
            "\n",
            "   prot_1_6  prot_1_7  ...  wind_prot_190  wind_prot_191  wind_prot_192  \\\n",
            "0 -3.916715  0.218848  ...      -0.958381       0.045456      -1.464553   \n",
            "1  5.744848  0.765174  ...      -0.275604      -0.577459      -0.603420   \n",
            "2  4.559882  5.064302  ...      -0.725204      -0.218523       0.712108   \n",
            "3  4.559882  5.064302  ...      -0.724598      -0.218572       0.712170   \n",
            "4  5.763516  1.306211  ...       0.147346       0.161696       0.133738   \n",
            "\n",
            "   wind_prot_193  wind_prot_194  wind_prot_195  wind_prot_196  wind_prot_197  \\\n",
            "0      -1.739927      -0.837836      -1.117425       0.788278      -1.022575   \n",
            "1      -0.131509      -0.629460      -0.047336      -0.110254       0.425069   \n",
            "2      -0.031456       0.288162       0.144887       0.064816      -0.766960   \n",
            "3      -0.031710       0.288060       0.144716       0.065007      -0.766899   \n",
            "4      -0.310763      -0.080426      -0.280387      -0.325130       0.278181   \n",
            "\n",
            "   wind_prot_198  wind_prot_199  \n",
            "0      -2.188694       1.553186  \n",
            "1       0.221487      -0.221286  \n",
            "2       0.210100      -1.518511  \n",
            "3       0.210024      -1.518676  \n",
            "4       0.025831      -0.513520  \n",
            "\n",
            "[5 rows x 602 columns]\n"
          ]
        }
      ]
    },
    {
      "cell_type": "code",
      "source": [
        "UX_train, UX_test, Uy_train, Uy_test = train_test_split(umap_x,umap_y, test_size=0.1, random_state=42)\n",
        "TX_train, TX_test, Ty_train, Ty_test = train_test_split(tsne_x,tsne_y, test_size=0.1, random_state=42)\n",
        "PX_train, PX_test, Py_train, Py_test = train_test_split(pca_x,pca_y, test_size=0.1, random_state=42)\n",
        "EX_train, EX_test, Ey_train, Ey_test = train_test_split(eliminated_x, eliminated_y, test_size=0.1, random_state=42)\n"
      ],
      "metadata": {
        "id": "XL_JDRr21iL0"
      },
      "execution_count": null,
      "outputs": []
    },
    {
      "cell_type": "code",
      "source": [
        "rf = RandomForestClassifier(random_state = 10)\n",
        "rf_obc = rf.fit(UX_train, Uy_train)\n",
        "y_pred= rf_obc.predict(UX_test)\n",
        "y_prob = rf_obc.predict_proba(UX_test)\n",
        "\n",
        "print(classification_report(Uy_test, y_pred))\n",
        "print(confusion_matrix(Uy_test, y_pred))\n",
        "#print(roc_auc_score(y_test_o, y_prob[:,1]))\n",
        "print(matthews_corrcoef(Uy_test, y_pred))"
      ],
      "metadata": {
        "colab": {
          "base_uri": "https://localhost:8080/"
        },
        "id": "9WSFw95v1cSg",
        "outputId": "128e4e92-dbc3-42f9-9f67-fef02a64fafa"
      },
      "execution_count": null,
      "outputs": [
        {
          "output_type": "stream",
          "name": "stdout",
          "text": [
            "              precision    recall  f1-score   support\n",
            "\n",
            "           0       0.84      0.92      0.88       228\n",
            "           1       0.81      0.67      0.74       122\n",
            "           2       1.00      1.00      1.00         2\n",
            "\n",
            "    accuracy                           0.83       352\n",
            "   macro avg       0.88      0.86      0.87       352\n",
            "weighted avg       0.83      0.83      0.83       352\n",
            "\n",
            "[[209  19   0]\n",
            " [ 40  82   0]\n",
            " [  0   0   2]]\n",
            "0.626856108094796\n"
          ]
        }
      ]
    },
    {
      "cell_type": "code",
      "source": [
        "rf = RandomForestClassifier(random_state = 10)\n",
        "rf_obc = rf.fit(PX_train, Py_train)\n",
        "y_pred= rf_obc.predict(PX_test)\n",
        "y_prob = rf_obc.predict_proba(PX_test)\n",
        "\n",
        "print(classification_report(Py_test, y_pred))\n",
        "print(confusion_matrix(Py_test, y_pred))\n",
        "#print(roc_auc_score(y_test_o, y_prob[:,1]))\n",
        "print(matthews_corrcoef(Py_test, y_pred))"
      ],
      "metadata": {
        "colab": {
          "base_uri": "https://localhost:8080/"
        },
        "id": "Q8MOzS_a1Adm",
        "outputId": "c260216c-8957-4ce5-9eb1-b871c08309b8"
      },
      "execution_count": null,
      "outputs": [
        {
          "output_type": "stream",
          "name": "stdout",
          "text": [
            "              precision    recall  f1-score   support\n",
            "\n",
            "           0       0.83      0.97      0.89       228\n",
            "           1       0.93      0.61      0.74       122\n",
            "           2       1.00      1.00      1.00         2\n",
            "\n",
            "    accuracy                           0.85       352\n",
            "   macro avg       0.92      0.86      0.88       352\n",
            "weighted avg       0.86      0.85      0.84       352\n",
            "\n",
            "[[222   6   0]\n",
            " [ 47  75   0]\n",
            " [  0   0   2]]\n",
            "0.6718968084779012\n"
          ]
        }
      ]
    },
    {
      "cell_type": "code",
      "source": [
        "rf = RandomForestClassifier(random_state = 10)\n",
        "rf_obc = rf.fit(TX_train, Ty_train)\n",
        "y_pred= rf_obc.predict(TX_test)\n",
        "y_prob = rf_obc.predict_proba(TX_test)\n",
        "\n",
        "print(classification_report(Ty_test, y_pred))\n",
        "print(confusion_matrix(Ty_test, y_pred))\n",
        "#print(roc_auc_score(y_test_o, y_prob[:,1]))\n",
        "print(matthews_corrcoef(Ty_test, y_pred))"
      ],
      "metadata": {
        "colab": {
          "base_uri": "https://localhost:8080/"
        },
        "id": "FQN7DxPe2Z7T",
        "outputId": "aa5c6892-c5e6-4a08-db71-c6a2fb25075c"
      },
      "execution_count": null,
      "outputs": [
        {
          "output_type": "stream",
          "name": "stdout",
          "text": [
            "              precision    recall  f1-score   support\n",
            "\n",
            "           0       0.80      0.93      0.86       228\n",
            "           1       0.80      0.57      0.66       122\n",
            "           2       1.00      1.00      1.00         2\n",
            "\n",
            "    accuracy                           0.80       352\n",
            "   macro avg       0.87      0.83      0.84       352\n",
            "weighted avg       0.80      0.80      0.79       352\n",
            "\n",
            "[[211  17   0]\n",
            " [ 53  69   0]\n",
            " [  0   0   2]]\n",
            "0.5530725367916978\n"
          ]
        }
      ]
    },
    {
      "cell_type": "code",
      "source": [
        "rf = RandomForestClassifier(random_state = 10)\n",
        "rf_obc = rf.fit(EX_train, Ey_train)\n",
        "y_pred= rf_obc.predict(EX_test)\n",
        "y_prob = rf_obc.predict_proba(EX_test)\n",
        "\n",
        "print(classification_report(Ey_test, y_pred))\n",
        "print(confusion_matrix(Ey_test, y_pred))\n",
        "#print(roc_auc_score(y_test_o, y_prob[:,1]))\n",
        "print(matthews_corrcoef(Ey_test, y_pred))"
      ],
      "metadata": {
        "colab": {
          "base_uri": "https://localhost:8080/"
        },
        "id": "sZcWljj9Bjei",
        "outputId": "d6593691-1ca1-4e6e-d2f7-9f4a11e6bac1"
      },
      "execution_count": null,
      "outputs": [
        {
          "output_type": "stream",
          "name": "stdout",
          "text": [
            "              precision    recall  f1-score   support\n",
            "\n",
            "           0       0.82      0.96      0.88       228\n",
            "           1       0.88      0.61      0.72       122\n",
            "           2       1.00      1.00      1.00         2\n",
            "\n",
            "    accuracy                           0.84       352\n",
            "   macro avg       0.90      0.86      0.87       352\n",
            "weighted avg       0.84      0.84      0.83       352\n",
            "\n",
            "[[218  10   0]\n",
            " [ 47  75   0]\n",
            " [  0   0   2]]\n",
            "0.6420468779727345\n"
          ]
        }
      ]
    },
    {
      "cell_type": "code",
      "source": [
        "rf = RandomForestClassifier()"
      ],
      "metadata": {
        "id": "UfcOSha02ahd"
      },
      "execution_count": null,
      "outputs": []
    }
  ]
}